{
 "cells": [
  {
   "cell_type": "markdown",
   "source": [
    "创建一张图片，用作背景"
   ],
   "metadata": {
    "collapsed": false
   }
  },
  {
   "cell_type": "code",
   "execution_count": 237,
   "metadata": {
    "collapsed": true,
    "ExecuteTime": {
     "end_time": "2023-06-13T07:30:11.751596Z",
     "start_time": "2023-06-13T07:30:11.699606200Z"
    }
   },
   "outputs": [],
   "source": [
    "from PIL import Image\n",
    "import random"
   ]
  },
  {
   "cell_type": "code",
   "execution_count": 76,
   "outputs": [],
   "source": [
    "width, height = 120, 60"
   ],
   "metadata": {
    "collapsed": false,
    "ExecuteTime": {
     "end_time": "2023-06-13T04:38:39.406529Z",
     "start_time": "2023-06-13T04:38:39.376541600Z"
    }
   }
  },
  {
   "cell_type": "code",
   "execution_count": 77,
   "outputs": [],
   "source": [
    "image = Image.new('RGB', (width, height), \"#3e7cd7\")"
   ],
   "metadata": {
    "collapsed": false,
    "ExecuteTime": {
     "end_time": "2023-06-13T04:38:47.839675600Z",
     "start_time": "2023-06-13T04:38:47.785683600Z"
    }
   }
  },
  {
   "cell_type": "code",
   "execution_count": 78,
   "outputs": [
    {
     "data": {
      "text/plain": "<PIL.Image.Image image mode=RGB size=120x60>",
      "image/png": "[encoded data removed]"
     },
     "execution_count": 78,
     "metadata": {},
     "output_type": "execute_result"
    }
   ],
   "source": [
    "image"
   ],
   "metadata": {
    "collapsed": false,
    "ExecuteTime": {
     "end_time": "2023-06-13T04:38:48.804533Z",
     "start_time": "2023-06-13T04:38:48.721528600Z"
    }
   }
  },
  {
   "cell_type": "markdown",
   "source": [
    "创建ImageFont"
   ],
   "metadata": {
    "collapsed": false
   }
  },
  {
   "cell_type": "code",
   "execution_count": 79,
   "outputs": [],
   "source": [
    "from PIL.ImageFont import truetype"
   ],
   "metadata": {
    "collapsed": false,
    "ExecuteTime": {
     "end_time": "2023-06-13T04:40:20.464850700Z",
     "start_time": "2023-06-13T04:40:20.433870Z"
    }
   }
  },
  {
   "cell_type": "code",
   "execution_count": 80,
   "outputs": [],
   "source": [
    "monaco = truetype('./data/Monaco.ttf', size=28)"
   ],
   "metadata": {
    "collapsed": false,
    "ExecuteTime": {
     "end_time": "2023-06-13T04:40:20.996857400Z",
     "start_time": "2023-06-13T04:40:20.965862100Z"
    }
   }
  },
  {
   "cell_type": "markdown",
   "source": [
    "创建一个字符的图片"
   ],
   "metadata": {
    "collapsed": false
   }
  },
  {
   "cell_type": "code",
   "execution_count": 349,
   "outputs": [],
   "source": [
    "from PIL.ImageDraw import Draw"
   ],
   "metadata": {
    "collapsed": false,
    "ExecuteTime": {
     "end_time": "2023-06-13T08:20:58.267554Z",
     "start_time": "2023-06-13T08:20:58.240563Z"
    }
   }
  },
  {
   "cell_type": "code",
   "execution_count": 350,
   "outputs": [],
   "source": [
    "draw = Draw(image)"
   ],
   "metadata": {
    "collapsed": false,
    "ExecuteTime": {
     "end_time": "2023-06-13T08:20:58.839365800Z",
     "start_time": "2023-06-13T08:20:58.792378400Z"
    }
   }
  },
  {
   "cell_type": "code",
   "execution_count": 351,
   "outputs": [],
   "source": [
    "p1, p2, p3, p4 = draw.textbbox((0, 0), \"A\", font=monaco)"
   ],
   "metadata": {
    "collapsed": false,
    "ExecuteTime": {
     "end_time": "2023-06-13T08:20:59.152220Z",
     "start_time": "2023-06-13T08:20:59.118841400Z"
    }
   }
  },
  {
   "cell_type": "code",
   "execution_count": 352,
   "outputs": [
    {
     "data": {
      "text/plain": "(0, 7, 17, 28)"
     },
     "execution_count": 352,
     "metadata": {},
     "output_type": "execute_result"
    }
   ],
   "source": [
    "p1, p2, p3, p4"
   ],
   "metadata": {
    "collapsed": false,
    "ExecuteTime": {
     "end_time": "2023-06-13T08:20:59.525114300Z",
     "start_time": "2023-06-13T08:20:59.498121900Z"
    }
   }
  },
  {
   "cell_type": "markdown",
   "source": [
    "获取文字的宽高"
   ],
   "metadata": {
    "collapsed": false
   }
  },
  {
   "cell_type": "code",
   "execution_count": 353,
   "outputs": [],
   "source": [
    "w, h = p3 - p1, p4 - p2"
   ],
   "metadata": {
    "collapsed": false,
    "ExecuteTime": {
     "end_time": "2023-06-13T08:21:00.776131500Z",
     "start_time": "2023-06-13T08:21:00.726147800Z"
    }
   }
  },
  {
   "cell_type": "code",
   "execution_count": 354,
   "outputs": [
    {
     "data": {
      "text/plain": "(17, 21)"
     },
     "execution_count": 354,
     "metadata": {},
     "output_type": "execute_result"
    }
   ],
   "source": [
    "w, h"
   ],
   "metadata": {
    "collapsed": false,
    "ExecuteTime": {
     "end_time": "2023-06-13T08:21:01.252406300Z",
     "start_time": "2023-06-13T08:21:01.207411800Z"
    }
   }
  },
  {
   "cell_type": "code",
   "execution_count": 355,
   "outputs": [],
   "source": [
    "dx = random.randint(0, 6)\n",
    "dy = random.randint(0, 6)"
   ],
   "metadata": {
    "collapsed": false,
    "ExecuteTime": {
     "end_time": "2023-06-13T08:21:01.923450Z",
     "start_time": "2023-06-13T08:21:01.879458900Z"
    }
   }
  },
  {
   "cell_type": "code",
   "execution_count": 356,
   "outputs": [],
   "source": [
    "text_img = Image.new('RGBA', (w + 2*dx, h + 2*dy), \"#3e7cd7\")"
   ],
   "metadata": {
    "collapsed": false,
    "ExecuteTime": {
     "end_time": "2023-06-13T08:21:02.785846Z",
     "start_time": "2023-06-13T08:21:02.773862200Z"
    }
   }
  },
  {
   "cell_type": "code",
   "execution_count": 357,
   "outputs": [
    {
     "data": {
      "text/plain": "<PIL.Image.Image image mode=RGBA size=19x33>",
      "image/png": "[encoded data removed]"
     },
     "execution_count": 357,
     "metadata": {},
     "output_type": "execute_result"
    }
   ],
   "source": [
    "text_img"
   ],
   "metadata": {
    "collapsed": false,
    "ExecuteTime": {
     "end_time": "2023-06-13T08:21:03.282899800Z",
     "start_time": "2023-06-13T08:21:03.214194200Z"
    }
   }
  },
  {
   "cell_type": "code",
   "execution_count": 358,
   "outputs": [],
   "source": [
    "Draw(text_img).text((dx, dy), \"A\", font=monaco, fill=\"white\", anchor='lt')"
   ],
   "metadata": {
    "collapsed": false,
    "ExecuteTime": {
     "end_time": "2023-06-13T08:21:04.245383900Z",
     "start_time": "2023-06-13T08:21:04.215384Z"
    }
   }
  },
  {
   "cell_type": "code",
   "execution_count": 359,
   "outputs": [
    {
     "data": {
      "text/plain": "<PIL.Image.Image image mode=RGBA size=19x33>",
      "image/png": "[encoded data removed]"
     },
     "execution_count": 359,
     "metadata": {},
     "output_type": "execute_result"
    }
   ],
   "source": [
    "text_img"
   ],
   "metadata": {
    "collapsed": false,
    "ExecuteTime": {
     "end_time": "2023-06-13T08:21:04.884371600Z",
     "start_time": "2023-06-13T08:21:04.789379700Z"
    }
   }
  },
  {
   "cell_type": "markdown",
   "source": [
    "旋转文字图片"
   ],
   "metadata": {
    "collapsed": false
   }
  },
  {
   "cell_type": "code",
   "execution_count": 360,
   "outputs": [],
   "source": [
    "# 从图片获取一个矩形区域，这一步貌似不需要\n",
    "rotated_text_img = text_img.crop(text_img.getbbox())"
   ],
   "metadata": {
    "collapsed": false,
    "ExecuteTime": {
     "end_time": "2023-06-13T08:21:06.449637700Z",
     "start_time": "2023-06-13T08:21:06.429631700Z"
    }
   }
  },
  {
   "cell_type": "code",
   "execution_count": 361,
   "outputs": [
    {
     "data": {
      "text/plain": "<PIL.Image.Image image mode=RGBA size=19x33>",
      "image/png": "[encoded data removed]"
     },
     "execution_count": 361,
     "metadata": {},
     "output_type": "execute_result"
    }
   ],
   "source": [
    "rotated_text_img"
   ],
   "metadata": {
    "collapsed": false,
    "ExecuteTime": {
     "end_time": "2023-06-13T08:21:06.982149200Z",
     "start_time": "2023-06-13T08:21:06.930155900Z"
    }
   }
  },
  {
   "cell_type": "code",
   "execution_count": 362,
   "outputs": [],
   "source": [
    "rotated_text_img = rotated_text_img.rotate(15, Image.BILINEAR, expand=True)"
   ],
   "metadata": {
    "collapsed": false,
    "ExecuteTime": {
     "end_time": "2023-06-13T08:21:08.007373300Z",
     "start_time": "2023-06-13T08:21:07.977377Z"
    }
   }
  },
  {
   "cell_type": "code",
   "execution_count": 363,
   "outputs": [
    {
     "data": {
      "text/plain": "<PIL.Image.Image image mode=RGBA size=27x37>",
      "image/png": "[encoded data removed]"
     },
     "execution_count": 363,
     "metadata": {},
     "output_type": "execute_result"
    }
   ],
   "source": [
    "rotated_text_img"
   ],
   "metadata": {
    "collapsed": false,
    "ExecuteTime": {
     "end_time": "2023-06-13T08:21:09.157330300Z",
     "start_time": "2023-06-13T08:21:09.108329900Z"
    }
   }
  },
  {
   "cell_type": "code",
   "execution_count": 364,
   "outputs": [
    {
     "data": {
      "text/plain": "(0, 0, 27, 37)"
     },
     "execution_count": 364,
     "metadata": {},
     "output_type": "execute_result"
    }
   ],
   "source": [
    "rotated_text_img.getbbox()"
   ],
   "metadata": {
    "collapsed": false,
    "ExecuteTime": {
     "end_time": "2023-06-13T08:21:10.363645600Z",
     "start_time": "2023-06-13T08:21:10.329651700Z"
    }
   }
  },
  {
   "cell_type": "markdown",
   "source": [
    "扭曲图片，对文字进行模糊处理"
   ],
   "metadata": {
    "collapsed": false
   }
  },
  {
   "cell_type": "code",
   "execution_count": 365,
   "outputs": [],
   "source": [
    "dx = w * random.uniform(0.4, 0.9)\n",
    "dy = h * random.uniform(0.4, 0.9)\n",
    "x1 = int(random.uniform(-dx, dx))\n",
    "y1 = int(random.uniform(-dy, dy))\n",
    "x2 = int(random.uniform(-dx, dx))\n",
    "y2 = int(random.uniform(-dy, dy))\n",
    "w2 = w + abs(x1) + abs(x2)\n",
    "h2 = h + abs(y1) + abs(y2)\n",
    "data = (\n",
    "    x1, y1,\n",
    "    -x1, h2 - y2,\n",
    "    w2 + x2, h2 + y2,\n",
    "    w2 - x2, -y1,\n",
    ")"
   ],
   "metadata": {
    "collapsed": false,
    "ExecuteTime": {
     "end_time": "2023-06-13T08:21:13.342859700Z",
     "start_time": "2023-06-13T08:21:13.312865900Z"
    }
   }
  },
  {
   "cell_type": "code",
   "execution_count": 366,
   "outputs": [
    {
     "data": {
      "text/plain": "(3, 0, -3, 21, 20, 41, 30, 0)"
     },
     "execution_count": 366,
     "metadata": {},
     "output_type": "execute_result"
    }
   ],
   "source": [
    "data"
   ],
   "metadata": {
    "collapsed": false,
    "ExecuteTime": {
     "end_time": "2023-06-13T08:21:14.420885600Z",
     "start_time": "2023-06-13T08:21:14.382892900Z"
    }
   }
  },
  {
   "cell_type": "code",
   "execution_count": 367,
   "outputs": [
    {
     "data": {
      "text/plain": "(17, 21)"
     },
     "execution_count": 367,
     "metadata": {},
     "output_type": "execute_result"
    }
   ],
   "source": [
    "w, h"
   ],
   "metadata": {
    "collapsed": false,
    "ExecuteTime": {
     "end_time": "2023-06-13T08:21:15.335544400Z",
     "start_time": "2023-06-13T08:21:15.304544600Z"
    }
   }
  },
  {
   "cell_type": "code",
   "execution_count": 368,
   "outputs": [
    {
     "data": {
      "text/plain": "(25, 31)"
     },
     "execution_count": 368,
     "metadata": {},
     "output_type": "execute_result"
    }
   ],
   "source": [
    "w2, h2"
   ],
   "metadata": {
    "collapsed": false,
    "ExecuteTime": {
     "end_time": "2023-06-13T08:21:17.381261500Z",
     "start_time": "2023-06-13T08:21:17.351261500Z"
    }
   }
  },
  {
   "cell_type": "code",
   "execution_count": 369,
   "outputs": [],
   "source": [
    "rotated_text_img = rotated_text_img.resize((w2, h2))"
   ],
   "metadata": {
    "collapsed": false,
    "ExecuteTime": {
     "end_time": "2023-06-13T08:21:23.077275600Z",
     "start_time": "2023-06-13T08:21:23.056276900Z"
    }
   }
  },
  {
   "cell_type": "code",
   "execution_count": 370,
   "outputs": [
    {
     "data": {
      "text/plain": "<PIL.Image.Image image mode=RGBA size=25x31>",
      "image/png": "[encoded data removed]"
     },
     "execution_count": 370,
     "metadata": {},
     "output_type": "execute_result"
    }
   ],
   "source": [
    "rotated_text_img"
   ],
   "metadata": {
    "collapsed": false,
    "ExecuteTime": {
     "end_time": "2023-06-13T08:21:23.744040Z",
     "start_time": "2023-06-13T08:21:23.686040800Z"
    }
   }
  },
  {
   "cell_type": "code",
   "execution_count": 371,
   "outputs": [],
   "source": [
    "rotated_text_img = rotated_text_img.transform((w2, h2), Image.QUAD, data)"
   ],
   "metadata": {
    "collapsed": false,
    "ExecuteTime": {
     "end_time": "2023-06-13T08:21:24.994547Z",
     "start_time": "2023-06-13T08:21:24.954550900Z"
    }
   }
  },
  {
   "cell_type": "code",
   "execution_count": 372,
   "outputs": [
    {
     "data": {
      "text/plain": "<PIL.Image.Image image mode=RGBA size=25x31>",
      "image/png": "[encoded data removed]"
     },
     "execution_count": 372,
     "metadata": {},
     "output_type": "execute_result"
    }
   ],
   "source": [
    "rotated_text_img"
   ],
   "metadata": {
    "collapsed": false,
    "ExecuteTime": {
     "end_time": "2023-06-13T08:21:25.887522500Z",
     "start_time": "2023-06-13T08:21:25.832528Z"
    }
   }
  },
  {
   "cell_type": "code",
   "execution_count": null,
   "outputs": [],
   "source": [],
   "metadata": {
    "collapsed": false
   }
  },
  {
   "cell_type": "code",
   "execution_count": null,
   "outputs": [],
   "source": [],
   "metadata": {
    "collapsed": false
   }
  },
  {
   "cell_type": "code",
   "execution_count": null,
   "outputs": [],
   "source": [],
   "metadata": {
    "collapsed": false
   }
  },
  {
   "cell_type": "code",
   "execution_count": 234,
   "outputs": [],
   "source": [
    "from image import ImageCaptcha"
   ],
   "metadata": {
    "collapsed": false,
    "ExecuteTime": {
     "end_time": "2023-06-13T07:25:14.753725100Z",
     "start_time": "2023-06-13T07:25:14.718730600Z"
    }
   }
  },
  {
   "cell_type": "code",
   "execution_count": 235,
   "outputs": [],
   "source": [
    "ic = ImageCaptcha()"
   ],
   "metadata": {
    "collapsed": false,
    "ExecuteTime": {
     "end_time": "2023-06-13T07:25:15.258947800Z",
     "start_time": "2023-06-13T07:25:15.217569200Z"
    }
   }
  },
  {
   "cell_type": "code",
   "execution_count": 236,
   "outputs": [
    {
     "data": {
      "text/plain": "<PIL.Image.Image image mode=RGB size=160x60>",
      "image/png": "[encoded data removed]"
     },
     "execution_count": 236,
     "metadata": {},
     "output_type": "execute_result"
    }
   ],
   "source": [
    "ic.generate_image(\"ABCD\")"
   ],
   "metadata": {
    "collapsed": false,
    "ExecuteTime": {
     "end_time": "2023-06-13T07:25:15.699476800Z",
     "start_time": "2023-06-13T07:25:15.638468500Z"
    }
   }
  },
  {
   "cell_type": "code",
   "execution_count": 232,
   "outputs": [],
   "source": [
    "from importlib import reload\n",
    "import sys"
   ],
   "metadata": {
    "collapsed": false,
    "ExecuteTime": {
     "end_time": "2023-06-13T07:25:09.432436900Z",
     "start_time": "2023-06-13T07:25:09.395446100Z"
    }
   }
  },
  {
   "cell_type": "code",
   "execution_count": 233,
   "outputs": [
    {
     "data": {
      "text/plain": "<module 'image' from 'D:\\\\projects\\\\开发项目\\\\projects\\\\basic-fastapi\\\\backend\\\\captcha\\\\image.py'>"
     },
     "execution_count": 233,
     "metadata": {},
     "output_type": "execute_result"
    }
   ],
   "source": [
    "reload(sys.modules[\"image\"])"
   ],
   "metadata": {
    "collapsed": false,
    "ExecuteTime": {
     "end_time": "2023-06-13T07:25:10.012934700Z",
     "start_time": "2023-06-13T07:25:09.970937700Z"
    }
   }
  },
  {
   "cell_type": "code",
   "execution_count": null,
   "outputs": [],
   "source": [],
   "metadata": {
    "collapsed": false
   }
  }
 ],
 "metadata": {
  "kernelspec": {
   "display_name": "Python 3",
   "language": "python",
   "name": "python3"
  },
  "language_info": {
   "codemirror_mode": {
    "name": "ipython",
    "version": 2
   },
   "file_extension": ".py",
   "mimetype": "text/x-python",
   "name": "python",
   "nbconvert_exporter": "python",
   "pygments_lexer": "ipython2",
   "version": "2.7.6"
  }
 },
 "nbformat": 4,
 "nbformat_minor": 0
}
